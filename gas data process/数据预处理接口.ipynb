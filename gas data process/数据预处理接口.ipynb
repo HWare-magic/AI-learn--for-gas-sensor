{
 "cells": [
  {
   "cell_type": "code",
   "execution_count": 1,
   "id": "d4175697",
   "metadata": {
    "ExecuteTime": {
     "end_time": "2022-09-14T14:05:58.840190Z",
     "start_time": "2022-09-14T14:05:55.397365Z"
    }
   },
   "outputs": [],
   "source": [
    "import pandas as pd\n",
    "from pandas import Series, DataFrame\n",
    "import math\n",
    "%matplotlib inline\n",
    "import numpy as np\n",
    "import torch\n",
    "from torch import nn\n",
    "from d2l import torch as d2l"
   ]
  },
  {
   "cell_type": "markdown",
   "id": "b839066d",
   "metadata": {},
   "source": [
    "## 这里需要根据输入表格的列的名称去修改 （必须去确定pusle 列）"
   ]
  },
  {
   "cell_type": "code",
   "execution_count": 143,
   "id": "33c53455",
   "metadata": {
    "ExecuteTime": {
     "end_time": "2022-09-15T11:47:51.867632Z",
     "start_time": "2022-09-15T11:47:51.578238Z"
    }
   },
   "outputs": [],
   "source": [
    "#读取原始数据 \n",
    "test = pd.read_csv(\"../data/sensor_data_origin/220617_1755_ethanol5ppm.csv\")\n",
    "# 第八行无名称的数据改成pulse\n",
    "test.rename(columns={'Unnamed: 8': 'pulse'},inplace=True)\n"
   ]
  },
  {
   "cell_type": "markdown",
   "id": "157dfe08",
   "metadata": {},
   "source": [
    "## 从这里开始包装成函数调用"
   ]
  },
  {
   "cell_type": "code",
   "execution_count": 144,
   "id": "4caae673",
   "metadata": {
    "ExecuteTime": {
     "end_time": "2022-09-15T11:47:51.883490Z",
     "start_time": "2022-09-15T11:47:51.869528Z"
    }
   },
   "outputs": [],
   "source": [
    "origin_data_length = 90\n",
    "traget_data_length = 70\n",
    "all = test\n",
    "count = math.floor(len(test)/origin_data_length) # math.floor 向下取的整数 筛选的一个周期为90个数据\n",
    "zero = [0]*count"
   ]
  },
  {
   "cell_type": "markdown",
   "id": "4c78b92e",
   "metadata": {},
   "source": [
    "## 这里可能需要有个数据接口 对应不同的脉冲电压 如 0.2-1.8的情况 （<span class=\"burk\">列名称必须是pulse</span>）"
   ]
  },
  {
   "cell_type": "code",
   "execution_count": 145,
   "id": "66b668bc",
   "metadata": {
    "ExecuteTime": {
     "end_time": "2022-09-15T11:47:56.939949Z",
     "start_time": "2022-09-15T11:47:52.233537Z"
    }
   },
   "outputs": [],
   "source": [
    "#### 注意这里数据的列名称必须是 pusle\n",
    "for j in range(count):\n",
    "    \n",
    "    for i in range (j*origin_data_length,(j+1)*origin_data_length):\n",
    "        if test.loc[i,\"pulse\"] > 2.5 and test.loc[(i-1),\"pulse\"] < 0.5: #根据脉冲的特性找到跳变开始的点   \n",
    "            zero[j] = test.index[i]"
   ]
  },
  {
   "cell_type": "code",
   "execution_count": 146,
   "id": "74a5db30",
   "metadata": {
    "ExecuteTime": {
     "end_time": "2022-09-15T11:49:00.136949Z",
     "start_time": "2022-09-15T11:47:56.942941Z"
    }
   },
   "outputs": [],
   "source": [
    "for i in zero:\n",
    "    p = zero.index(i)\n",
    "    #print(p)\n",
    "    for j in range(traget_data_length):  # traget_data_length 是脉冲前20个点 脉冲过程30个  脉冲后20个\n",
    "        all.iloc[p*traget_data_length+j,:] = test.iloc[i-20+j,:] # 这的20 代表往前取了20个点 （这个需不需要做成接口  待定）"
   ]
  },
  {
   "cell_type": "code",
   "execution_count": 147,
   "id": "70565f03",
   "metadata": {
    "ExecuteTime": {
     "end_time": "2022-09-15T11:49:06.847971Z",
     "start_time": "2022-09-15T11:49:03.362295Z"
    }
   },
   "outputs": [],
   "source": [
    "all.to_csv('../data/process/allout.csv') "
   ]
  },
  {
   "cell_type": "code",
   "execution_count": 148,
   "id": "cfe10543",
   "metadata": {
    "ExecuteTime": {
     "end_time": "2022-09-15T11:49:07.299763Z",
     "start_time": "2022-09-15T11:49:06.849967Z"
    }
   },
   "outputs": [],
   "source": [
    "data_set =pd.read_csv ('../data/process/allout.csv')"
   ]
  },
  {
   "cell_type": "code",
   "execution_count": 149,
   "id": "e187c00e",
   "metadata": {
    "ExecuteTime": {
     "end_time": "2022-09-15T11:49:07.331677Z",
     "start_time": "2022-09-15T11:49:07.302754Z"
    }
   },
   "outputs": [],
   "source": [
    "redundancy = all.shape[0]%traget_data_length"
   ]
  },
  {
   "cell_type": "code",
   "execution_count": 150,
   "id": "ac66f369",
   "metadata": {
    "ExecuteTime": {
     "end_time": "2022-09-15T11:49:07.363592Z",
     "start_time": "2022-09-15T11:49:07.335668Z"
    }
   },
   "outputs": [],
   "source": [
    "all_feature = all.iloc[0:-redundancy,1:] #读取整数个样本数的数据"
   ]
  },
  {
   "cell_type": "code",
   "execution_count": 151,
   "id": "f0915288",
   "metadata": {
    "ExecuteTime": {
     "end_time": "2022-09-15T11:49:07.395508Z",
     "start_time": "2022-09-15T11:49:07.365588Z"
    }
   },
   "outputs": [
    {
     "data": {
      "text/html": [
       "<div>\n",
       "<style scoped>\n",
       "    .dataframe tbody tr th:only-of-type {\n",
       "        vertical-align: middle;\n",
       "    }\n",
       "\n",
       "    .dataframe tbody tr th {\n",
       "        vertical-align: top;\n",
       "    }\n",
       "\n",
       "    .dataframe thead th {\n",
       "        text-align: right;\n",
       "    }\n",
       "</style>\n",
       "<table border=\"1\" class=\"dataframe\">\n",
       "  <thead>\n",
       "    <tr style=\"text-align: right;\">\n",
       "      <th></th>\n",
       "      <th>sensor1(vol)</th>\n",
       "      <th>sensor2(vol)</th>\n",
       "      <th>sensor3(vol)</th>\n",
       "      <th>sensor4(vol)</th>\n",
       "      <th>sensor5(vol)</th>\n",
       "      <th>sensor6(vol)</th>\n",
       "      <th>sensor7(vol)</th>\n",
       "      <th>pulse</th>\n",
       "    </tr>\n",
       "  </thead>\n",
       "  <tbody>\n",
       "    <tr>\n",
       "      <th>0</th>\n",
       "      <td>0.023811</td>\n",
       "      <td>0.021556</td>\n",
       "      <td>0.020589</td>\n",
       "      <td>0.023167</td>\n",
       "      <td>0.039600</td>\n",
       "      <td>0.041211</td>\n",
       "      <td>1.056189</td>\n",
       "      <td>0.446235</td>\n",
       "    </tr>\n",
       "    <tr>\n",
       "      <th>1</th>\n",
       "      <td>0.023811</td>\n",
       "      <td>0.021878</td>\n",
       "      <td>0.023167</td>\n",
       "      <td>0.023811</td>\n",
       "      <td>0.040889</td>\n",
       "      <td>0.042178</td>\n",
       "      <td>1.053933</td>\n",
       "      <td>0.445591</td>\n",
       "    </tr>\n",
       "    <tr>\n",
       "      <th>2</th>\n",
       "      <td>0.023489</td>\n",
       "      <td>0.020911</td>\n",
       "      <td>0.021878</td>\n",
       "      <td>0.022522</td>\n",
       "      <td>0.040889</td>\n",
       "      <td>0.042500</td>\n",
       "      <td>1.055222</td>\n",
       "      <td>0.446880</td>\n",
       "    </tr>\n",
       "    <tr>\n",
       "      <th>3</th>\n",
       "      <td>0.023489</td>\n",
       "      <td>0.021878</td>\n",
       "      <td>0.021556</td>\n",
       "      <td>0.023489</td>\n",
       "      <td>0.041211</td>\n",
       "      <td>0.040889</td>\n",
       "      <td>1.056833</td>\n",
       "      <td>0.446880</td>\n",
       "    </tr>\n",
       "    <tr>\n",
       "      <th>4</th>\n",
       "      <td>0.023811</td>\n",
       "      <td>0.020911</td>\n",
       "      <td>0.022845</td>\n",
       "      <td>0.022522</td>\n",
       "      <td>0.040566</td>\n",
       "      <td>0.042178</td>\n",
       "      <td>1.054900</td>\n",
       "      <td>0.445913</td>\n",
       "    </tr>\n",
       "  </tbody>\n",
       "</table>\n",
       "</div>"
      ],
      "text/plain": [
       "    sensor1(vol)    sensor2(vol)    sensor3(vol)     sensor4(vol)   \\\n",
       "0        0.023811        0.021556        0.020589         0.023167   \n",
       "1        0.023811        0.021878        0.023167         0.023811   \n",
       "2        0.023489        0.020911        0.021878         0.022522   \n",
       "3        0.023489        0.021878        0.021556         0.023489   \n",
       "4        0.023811        0.020911        0.022845         0.022522   \n",
       "\n",
       "    sensor5(vol)    sensor6(vol)    sensor7(vol)      pulse  \n",
       "0        0.039600        0.041211        1.056189  0.446235  \n",
       "1        0.040889        0.042178        1.053933  0.445591  \n",
       "2        0.040889        0.042500        1.055222  0.446880  \n",
       "3        0.041211        0.040889        1.056833  0.446880  \n",
       "4        0.040566        0.042178        1.054900  0.445913  "
      ]
     },
     "execution_count": 151,
     "metadata": {},
     "output_type": "execute_result"
    }
   ],
   "source": [
    "all_feature.head()"
   ]
  },
  {
   "cell_type": "code",
   "execution_count": 152,
   "id": "7e96decb",
   "metadata": {
    "ExecuteTime": {
     "end_time": "2022-09-15T11:49:07.411464Z",
     "start_time": "2022-09-15T11:49:07.397501Z"
    }
   },
   "outputs": [],
   "source": [
    "sensor1 = all_feature.iloc[:,0] # 四列数据对应四个传感器\n",
    "sensor2 = all_feature.iloc[:,1]\n",
    "sensor3 = all_feature.iloc[:,2]\n",
    "sensor4 = all_feature.iloc[:,3]"
   ]
  },
  {
   "cell_type": "code",
   "execution_count": 153,
   "id": "d900a7fb",
   "metadata": {
    "ExecuteTime": {
     "end_time": "2022-09-15T11:49:07.427423Z",
     "start_time": "2022-09-15T11:49:07.413459Z"
    }
   },
   "outputs": [],
   "source": [
    "# 把sensor的数据弄成 traget-data_length的宽度的数据\n",
    "train_features = torch.Tensor(sensor1.values)\n",
    "true_train_features1 = train_features.reshape(-1,traget_data_length)\n",
    "train_features = torch.Tensor(sensor2.values)\n",
    "true_train_features2 = train_features.reshape(-1,traget_data_length)\n",
    "train_features = torch.Tensor(sensor3.values)\n",
    "true_train_features3 = train_features.reshape(-1,traget_data_length)\n",
    "train_features = torch.Tensor(sensor4.values)\n",
    "true_train_features4 = train_features.reshape(-1,traget_data_length)"
   ]
  },
  {
   "cell_type": "markdown",
   "id": "c9f57ae6",
   "metadata": {},
   "source": [
    "## 还需要添加一个湿度的变量（）"
   ]
  },
  {
   "cell_type": "code",
   "execution_count": 154,
   "id": "ce18a394",
   "metadata": {
    "ExecuteTime": {
     "end_time": "2022-09-15T11:49:07.443379Z",
     "start_time": "2022-09-15T11:49:07.429415Z"
    }
   },
   "outputs": [],
   "source": [
    "#这里把直流的数据当成label  后续测试 改成两个直流的\n",
    "label = all_feature.iloc[:,6]\n",
    "train_label = torch.tensor(label.values)\n",
    "true_train_label = train_label.reshape(-1,traget_data_length)"
   ]
  },
  {
   "cell_type": "code",
   "execution_count": 155,
   "id": "5f42f8ef",
   "metadata": {
    "ExecuteTime": {
     "end_time": "2022-09-15T11:49:07.459336Z",
     "start_time": "2022-09-15T11:49:07.445373Z"
    }
   },
   "outputs": [],
   "source": [
    "a = true_train_features1.detach().numpy()\n",
    "b = true_train_features2.detach().numpy()\n",
    "c = true_train_features3.detach().numpy()\n",
    "d = true_train_features4.detach().numpy()\n",
    "l = true_train_label.detach().numpy()"
   ]
  },
  {
   "cell_type": "code",
   "execution_count": 156,
   "id": "0e13da08",
   "metadata": {
    "ExecuteTime": {
     "end_time": "2022-09-15T11:49:07.475293Z",
     "start_time": "2022-09-15T11:49:07.463325Z"
    }
   },
   "outputs": [],
   "source": [
    "a1 = pd.DataFrame(a)\n",
    "b1 = pd.DataFrame(b)\n",
    "c1 = pd.DataFrame(c)\n",
    "d1 = pd.DataFrame(d)\n",
    "l1 = pd.DataFrame(l)"
   ]
  },
  {
   "cell_type": "code",
   "execution_count": 157,
   "id": "d5acd2c4",
   "metadata": {
    "ExecuteTime": {
     "end_time": "2022-09-15T11:49:07.523166Z",
     "start_time": "2022-09-15T11:49:07.497236Z"
    }
   },
   "outputs": [],
   "source": [
    "# 把label的值增加到数据中去  把第一个直流的值当成label\n",
    "a1.loc[:,traget_data_length] = l1.iloc[:,0]\n",
    "b1.loc[:,traget_data_length] = l1.iloc[:,0]\n",
    "c1.loc[:,traget_data_length] = l1.iloc[:,0]\n",
    "d1.loc[:,traget_data_length] = l1.iloc[:,0]"
   ]
  },
  {
   "cell_type": "markdown",
   "id": "dcca3c2f",
   "metadata": {},
   "source": [
    "## 需要改变文件名称"
   ]
  },
  {
   "cell_type": "code",
   "execution_count": 158,
   "id": "40352f4d",
   "metadata": {
    "ExecuteTime": {
     "end_time": "2022-09-15T11:49:11.672069Z",
     "start_time": "2022-09-15T11:49:10.550098Z"
    }
   },
   "outputs": [],
   "source": [
    "a1.to_csv('../data/process/sensor1_5ppm.csv',index=0)\n",
    "b1.to_csv('../data/process/sensor2_5ppm.csv',index=0)\n",
    "c1.to_csv('../data/process/sensor3_5ppm.csv',index=0)\n",
    "d1.to_csv('../data/process/sensor4_5ppm.csv',index=0)"
   ]
  },
  {
   "cell_type": "markdown",
   "id": "b17ca074",
   "metadata": {},
   "source": [
    "# 不同浓度采样"
   ]
  },
  {
   "cell_type": "code",
   "execution_count": 166,
   "id": "9fe4f6d2",
   "metadata": {
    "ExecuteTime": {
     "end_time": "2022-09-15T11:51:35.386518Z",
     "start_time": "2022-09-15T11:51:35.235920Z"
    }
   },
   "outputs": [],
   "source": [
    "read_data_1ppm = pd.read_csv('../data/process/sensor1_1ppm.csv')\n",
    "read_data_5ppm = pd.read_csv('../data/process/sensor1_5ppm.csv')\n",
    "read_data_10ppm = pd.read_csv('../data/process/sensor1_10ppm.csv')  #  需要修改读取的文件  index =0 列号是否选"
   ]
  },
  {
   "cell_type": "code",
   "execution_count": 167,
   "id": "ea0d42b4",
   "metadata": {
    "ExecuteTime": {
     "end_time": "2022-09-15T11:51:35.799413Z",
     "start_time": "2022-09-15T11:51:35.776474Z"
    }
   },
   "outputs": [],
   "source": [
    "train_data_1ppm = read_data_1ppm.iloc[2000:3000,0:-1]\n",
    "label_data_1ppm = read_data_1ppm.iloc[2000:3000,-1]\n",
    "train_data_5ppm = read_data_5ppm.iloc[2000:3000,0:-1]\n",
    "label_data_5ppm = read_data_5ppm.iloc[2000:3000,-1]\n",
    "train_data_10ppm = read_data_10ppm.iloc[2000:3000,0:-1]\n",
    "label_data_10ppm = read_data_10ppm.iloc[2000:3000,-1]"
   ]
  },
  {
   "cell_type": "code",
   "execution_count": 168,
   "id": "2c1892d9",
   "metadata": {
    "ExecuteTime": {
     "end_time": "2022-09-15T11:51:36.271108Z",
     "start_time": "2022-09-15T11:51:36.252155Z"
    }
   },
   "outputs": [],
   "source": [
    "# 数据归一化 每行都除以改行的最大值  \n",
    "######不需要归一化 可以注释掉这里 ---------------------------########\n",
    "df1 = train_data_1ppm.max(axis=1)\n",
    "df2 = train_data_5ppm.max(axis=1)\n",
    "df3 = train_data_10ppm.max(axis=1)\n",
    "train_data_1ppm=train_data_1ppm.div(df1, axis='rows')\n",
    "train_data_5ppm=train_data_5ppm.div(df2, axis='rows')\n",
    "train_data_10ppm=train_data_10ppm.div(df3, axis='rows')"
   ]
  },
  {
   "cell_type": "code",
   "execution_count": 169,
   "id": "53135965",
   "metadata": {
    "ExecuteTime": {
     "end_time": "2022-09-15T11:51:36.835874Z",
     "start_time": "2022-09-15T11:51:36.814919Z"
    }
   },
   "outputs": [],
   "source": [
    "#添加label列  0 1 2 softmax特有的\n",
    "train_data_1ppm.loc[:,71]=0\n",
    "train_data_5ppm.loc[:,71]=1\n",
    "train_data_10ppm.loc[:,71]=2"
   ]
  },
  {
   "cell_type": "code",
   "execution_count": 170,
   "id": "9de53473",
   "metadata": {
    "ExecuteTime": {
     "end_time": "2022-09-15T11:51:37.899112Z",
     "start_time": "2022-09-15T11:51:37.889138Z"
    }
   },
   "outputs": [],
   "source": [
    "test_data_noppm = pd.concat([train_data_1ppm,train_data_5ppm,train_data_10ppm],axis=0)"
   ]
  },
  {
   "cell_type": "code",
   "execution_count": 171,
   "id": "ccdd3a38",
   "metadata": {
    "ExecuteTime": {
     "end_time": "2022-09-15T11:51:39.421513Z",
     "start_time": "2022-09-15T11:51:39.301805Z"
    }
   },
   "outputs": [],
   "source": [
    "#随机采样 生成学习数据\n",
    "example = test_data_noppm.sample(1000,replace=False,random_state=42,axis=0)\n",
    "train_set = example.iloc[0:800,:]\n",
    "test_set = example.iloc[800:1000,:]\n",
    "train_set.to_csv(\"../data/train_set.csv\",index=0)\n",
    "test_set.to_csv(\"../data/test_set.csv\",index=0)"
   ]
  },
  {
   "cell_type": "code",
   "execution_count": 22,
   "id": "4d7f5172",
   "metadata": {
    "ExecuteTime": {
     "end_time": "2022-09-15T07:34:23.478990Z",
     "start_time": "2022-09-15T07:34:23.465057Z"
    }
   },
   "outputs": [
    {
     "data": {
      "text/plain": [
       "pandas.core.frame.DataFrame"
      ]
     },
     "execution_count": 22,
     "metadata": {},
     "output_type": "execute_result"
    }
   ],
   "source": [
    "type(train_set)"
   ]
  },
  {
   "cell_type": "markdown",
   "id": "86a73adc",
   "metadata": {},
   "source": [
    "## 将产生的数据集做归一化"
   ]
  },
  {
   "cell_type": "code",
   "execution_count": 56,
   "id": "e2b8a6c5",
   "metadata": {
    "ExecuteTime": {
     "end_time": "2022-09-15T08:43:56.639820Z",
     "start_time": "2022-09-15T08:43:56.600924Z"
    }
   },
   "outputs": [],
   "source": [
    "read_test_set = pd.read_csv('../../../data/history/softmax-0914/train_s2 for tets_s2/test_set.csv')\n",
    "read_train_set = pd.read_csv('../../../data/history/softmax-0914/train_s2 for tets_s2/train_set.csv')\n"
   ]
  },
  {
   "cell_type": "code",
   "execution_count": 57,
   "id": "9f43fd38",
   "metadata": {
    "ExecuteTime": {
     "end_time": "2022-09-15T08:44:02.785321Z",
     "start_time": "2022-09-15T08:44:02.763379Z"
    }
   },
   "outputs": [],
   "source": [
    "ab = read_test_set.iloc[:,0:-1]\n",
    "ab1 = ab.max(axis=1)\n",
    "ab = ab.div(ab1,axis='rows')\n",
    "ab.loc[:,71] = read_test_set.iloc[:,-1]\n",
    "ab.to_csv(\"../../../data/history/softmax-0914/train_s2 for tets_s2/test_set_normol.csv\",index=0)"
   ]
  },
  {
   "cell_type": "code",
   "execution_count": 62,
   "id": "5d55426d",
   "metadata": {
    "ExecuteTime": {
     "end_time": "2022-09-15T08:44:25.993562Z",
     "start_time": "2022-09-15T08:44:25.902805Z"
    }
   },
   "outputs": [],
   "source": [
    "bc = read_train_set.iloc[:,0:-1]\n",
    "bc1 = bc.max(axis=1)\n",
    "bc = bc.div(bc1,axis='rows')\n",
    "bc.loc[:,71] = read_train_set.iloc[:,-1]\n",
    "bc.to_csv(\"../../../data/history/softmax-0914/train_s2 for tets_s2/train_set_normol.csv\",index=0)"
   ]
  },
  {
   "cell_type": "code",
   "execution_count": null,
   "id": "1c73f629",
   "metadata": {},
   "outputs": [],
   "source": []
  }
 ],
 "metadata": {
  "kernelspec": {
   "display_name": "Python 3 (ipykernel)",
   "language": "python",
   "name": "python3"
  },
  "language_info": {
   "codemirror_mode": {
    "name": "ipython",
    "version": 3
   },
   "file_extension": ".py",
   "mimetype": "text/x-python",
   "name": "python",
   "nbconvert_exporter": "python",
   "pygments_lexer": "ipython3",
   "version": "3.7.12"
  },
  "toc": {
   "base_numbering": 1,
   "nav_menu": {},
   "number_sections": true,
   "sideBar": true,
   "skip_h1_title": false,
   "title_cell": "Table of Contents",
   "title_sidebar": "Contents",
   "toc_cell": false,
   "toc_position": {},
   "toc_section_display": true,
   "toc_window_display": false
  }
 },
 "nbformat": 4,
 "nbformat_minor": 5
}
