{
 "cells": [
  {
   "cell_type": "code",
   "execution_count": 1,
   "id": "d4175697",
   "metadata": {},
   "outputs": [],
   "source": [
    "import pandas as pd\n",
    "from pandas import Series, DataFrame\n",
    "import math\n",
    "%matplotlib inline\n",
    "import numpy as np\n",
    "import torch\n",
    "from torch import nn\n",
    "from d2l import torch as d2l"
   ]
  },
  {
   "cell_type": "code",
   "execution_count": 2,
   "id": "33c53455",
   "metadata": {},
   "outputs": [],
   "source": [
    "#读取原始数据\n",
    "test = pd.read_csv(\"../data/220617_1855_ethanol10ppm.csv\")\n",
    "# 第八行无名称的数据改成pulse\n",
    "test.rename(columns={'Unnamed: 8': 'pulse'},inplace=True)\n"
   ]
  },
  {
   "cell_type": "code",
   "execution_count": 3,
   "id": "4caae673",
   "metadata": {},
   "outputs": [],
   "source": [
    "origin_data_length = 90\n",
    "traget_data_length = 70\n",
    "all = test\n",
    "count = math.floor(len(test)/origin_data_length) # 筛选的一个周期为90个数据\n",
    "zero = [0]*count"
   ]
  },
  {
   "cell_type": "code",
   "execution_count": 4,
   "id": "66b668bc",
   "metadata": {},
   "outputs": [],
   "source": [
    "for j in range(count):\n",
    "    \n",
    "    for i in range (j*origin_data_length,(j+1)*origin_data_length):\n",
    "        if test.loc[i,\"pulse\"] > 2.5 and test.loc[(i-1),\"pulse\"] < 0.5: #根据脉冲的特性找到跳变开始的点\n",
    "            zero[j] = test.index[i]"
   ]
  },
  {
   "cell_type": "code",
   "execution_count": 5,
   "id": "74a5db30",
   "metadata": {},
   "outputs": [
    {
     "ename": "KeyboardInterrupt",
     "evalue": "",
     "output_type": "error",
     "traceback": [
      "\u001b[1;31m---------------------------------------------------------------------------\u001b[0m",
      "\u001b[1;31mKeyboardInterrupt\u001b[0m                         Traceback (most recent call last)",
      "\u001b[1;32m<ipython-input-5-a5cca85f5b61>\u001b[0m in \u001b[0;36m<module>\u001b[1;34m\u001b[0m\n\u001b[0;32m      3\u001b[0m     \u001b[1;31m#print(p)\u001b[0m\u001b[1;33m\u001b[0m\u001b[1;33m\u001b[0m\u001b[1;33m\u001b[0m\u001b[0m\n\u001b[0;32m      4\u001b[0m     \u001b[1;32mfor\u001b[0m \u001b[0mj\u001b[0m \u001b[1;32min\u001b[0m \u001b[0mrange\u001b[0m\u001b[1;33m(\u001b[0m\u001b[0mtraget_data_length\u001b[0m\u001b[1;33m)\u001b[0m\u001b[1;33m:\u001b[0m  \u001b[1;31m# traget_data_length 是脉冲前20个点 脉冲过程30个  脉冲后20个\u001b[0m\u001b[1;33m\u001b[0m\u001b[1;33m\u001b[0m\u001b[0m\n\u001b[1;32m----> 5\u001b[1;33m         \u001b[0mall\u001b[0m\u001b[1;33m.\u001b[0m\u001b[0miloc\u001b[0m\u001b[1;33m[\u001b[0m\u001b[0mp\u001b[0m\u001b[1;33m*\u001b[0m\u001b[0mtraget_data_length\u001b[0m\u001b[1;33m+\u001b[0m\u001b[0mj\u001b[0m\u001b[1;33m,\u001b[0m\u001b[1;33m:\u001b[0m\u001b[1;33m]\u001b[0m \u001b[1;33m=\u001b[0m \u001b[0mtest\u001b[0m\u001b[1;33m.\u001b[0m\u001b[0miloc\u001b[0m\u001b[1;33m[\u001b[0m\u001b[0mi\u001b[0m\u001b[1;33m-\u001b[0m\u001b[1;36m20\u001b[0m\u001b[1;33m+\u001b[0m\u001b[0mj\u001b[0m\u001b[1;33m,\u001b[0m\u001b[1;33m:\u001b[0m\u001b[1;33m]\u001b[0m\u001b[1;33m\u001b[0m\u001b[1;33m\u001b[0m\u001b[0m\n\u001b[0m",
      "\u001b[1;32mD:\\pytorch\\Anaconda3\\envs\\pythonProject\\lib\\site-packages\\pandas\\core\\indexing.py\u001b[0m in \u001b[0;36m__setitem__\u001b[1;34m(self, key, value)\u001b[0m\n\u001b[0;32m    668\u001b[0m \u001b[1;33m\u001b[0m\u001b[0m\n\u001b[0;32m    669\u001b[0m         \u001b[0miloc\u001b[0m \u001b[1;33m=\u001b[0m \u001b[0mself\u001b[0m \u001b[1;32mif\u001b[0m \u001b[0mself\u001b[0m\u001b[1;33m.\u001b[0m\u001b[0mname\u001b[0m \u001b[1;33m==\u001b[0m \u001b[1;34m\"iloc\"\u001b[0m \u001b[1;32melse\u001b[0m \u001b[0mself\u001b[0m\u001b[1;33m.\u001b[0m\u001b[0mobj\u001b[0m\u001b[1;33m.\u001b[0m\u001b[0miloc\u001b[0m\u001b[1;33m\u001b[0m\u001b[1;33m\u001b[0m\u001b[0m\n\u001b[1;32m--> 670\u001b[1;33m         \u001b[0miloc\u001b[0m\u001b[1;33m.\u001b[0m\u001b[0m_setitem_with_indexer\u001b[0m\u001b[1;33m(\u001b[0m\u001b[0mindexer\u001b[0m\u001b[1;33m,\u001b[0m \u001b[0mvalue\u001b[0m\u001b[1;33m)\u001b[0m\u001b[1;33m\u001b[0m\u001b[1;33m\u001b[0m\u001b[0m\n\u001b[0m\u001b[0;32m    671\u001b[0m \u001b[1;33m\u001b[0m\u001b[0m\n\u001b[0;32m    672\u001b[0m     \u001b[1;32mdef\u001b[0m \u001b[0m_validate_key\u001b[0m\u001b[1;33m(\u001b[0m\u001b[0mself\u001b[0m\u001b[1;33m,\u001b[0m \u001b[0mkey\u001b[0m\u001b[1;33m,\u001b[0m \u001b[0maxis\u001b[0m\u001b[1;33m:\u001b[0m \u001b[0mint\u001b[0m\u001b[1;33m)\u001b[0m\u001b[1;33m:\u001b[0m\u001b[1;33m\u001b[0m\u001b[1;33m\u001b[0m\u001b[0m\n",
      "\u001b[1;32mD:\\pytorch\\Anaconda3\\envs\\pythonProject\\lib\\site-packages\\pandas\\core\\indexing.py\u001b[0m in \u001b[0;36m_setitem_with_indexer\u001b[1;34m(self, indexer, value)\u001b[0m\n\u001b[0;32m   1788\u001b[0m                 \u001b[1;31m# setting for extensionarrays that store dicts. Need to decide\u001b[0m\u001b[1;33m\u001b[0m\u001b[1;33m\u001b[0m\u001b[1;33m\u001b[0m\u001b[0m\n\u001b[0;32m   1789\u001b[0m                 \u001b[1;31m# if it's worth supporting that.\u001b[0m\u001b[1;33m\u001b[0m\u001b[1;33m\u001b[0m\u001b[1;33m\u001b[0m\u001b[0m\n\u001b[1;32m-> 1790\u001b[1;33m                 \u001b[0mvalue\u001b[0m \u001b[1;33m=\u001b[0m \u001b[0mself\u001b[0m\u001b[1;33m.\u001b[0m\u001b[0m_align_series\u001b[0m\u001b[1;33m(\u001b[0m\u001b[0mindexer\u001b[0m\u001b[1;33m,\u001b[0m \u001b[0mSeries\u001b[0m\u001b[1;33m(\u001b[0m\u001b[0mvalue\u001b[0m\u001b[1;33m)\u001b[0m\u001b[1;33m)\u001b[0m\u001b[1;33m\u001b[0m\u001b[1;33m\u001b[0m\u001b[0m\n\u001b[0m\u001b[0;32m   1791\u001b[0m \u001b[1;33m\u001b[0m\u001b[0m\n\u001b[0;32m   1792\u001b[0m             \u001b[1;32melif\u001b[0m \u001b[0misinstance\u001b[0m\u001b[1;33m(\u001b[0m\u001b[0mvalue\u001b[0m\u001b[1;33m,\u001b[0m \u001b[0mABCDataFrame\u001b[0m\u001b[1;33m)\u001b[0m\u001b[1;33m:\u001b[0m\u001b[1;33m\u001b[0m\u001b[1;33m\u001b[0m\u001b[0m\n",
      "\u001b[1;32mD:\\pytorch\\Anaconda3\\envs\\pythonProject\\lib\\site-packages\\pandas\\core\\indexing.py\u001b[0m in \u001b[0;36m_align_series\u001b[1;34m(self, indexer, ser, multiindex_indexer)\u001b[0m\n\u001b[0;32m   1939\u001b[0m                     \u001b[0max\u001b[0m \u001b[1;33m=\u001b[0m \u001b[0mself\u001b[0m\u001b[1;33m.\u001b[0m\u001b[0mobj\u001b[0m\u001b[1;33m.\u001b[0m\u001b[0maxes\u001b[0m\u001b[1;33m[\u001b[0m\u001b[1;36m1\u001b[0m\u001b[1;33m]\u001b[0m\u001b[1;33m\u001b[0m\u001b[1;33m\u001b[0m\u001b[0m\n\u001b[0;32m   1940\u001b[0m                     \u001b[1;32mif\u001b[0m \u001b[0mser\u001b[0m\u001b[1;33m.\u001b[0m\u001b[0mindex\u001b[0m\u001b[1;33m.\u001b[0m\u001b[0mequals\u001b[0m\u001b[1;33m(\u001b[0m\u001b[0max\u001b[0m\u001b[1;33m)\u001b[0m \u001b[1;32mor\u001b[0m \u001b[1;32mnot\u001b[0m \u001b[0mlen\u001b[0m\u001b[1;33m(\u001b[0m\u001b[0max\u001b[0m\u001b[1;33m)\u001b[0m\u001b[1;33m:\u001b[0m\u001b[1;33m\u001b[0m\u001b[1;33m\u001b[0m\u001b[0m\n\u001b[1;32m-> 1941\u001b[1;33m                         \u001b[1;32mreturn\u001b[0m \u001b[0mser\u001b[0m\u001b[1;33m.\u001b[0m\u001b[0m_values\u001b[0m\u001b[1;33m.\u001b[0m\u001b[0mcopy\u001b[0m\u001b[1;33m(\u001b[0m\u001b[1;33m)\u001b[0m\u001b[1;33m\u001b[0m\u001b[1;33m\u001b[0m\u001b[0m\n\u001b[0m\u001b[0;32m   1942\u001b[0m                     \u001b[1;32mreturn\u001b[0m \u001b[0mser\u001b[0m\u001b[1;33m.\u001b[0m\u001b[0mreindex\u001b[0m\u001b[1;33m(\u001b[0m\u001b[0max\u001b[0m\u001b[1;33m)\u001b[0m\u001b[1;33m.\u001b[0m\u001b[0m_values\u001b[0m\u001b[1;33m\u001b[0m\u001b[1;33m\u001b[0m\u001b[0m\n\u001b[0;32m   1943\u001b[0m \u001b[1;33m\u001b[0m\u001b[0m\n",
      "\u001b[1;31mKeyboardInterrupt\u001b[0m: "
     ]
    }
   ],
   "source": [
    "for i in zero:\n",
    "    p = zero.index(i)\n",
    "    #print(p)\n",
    "    for j in range(traget_data_length):  # traget_data_length 是脉冲前20个点 脉冲过程30个  脉冲后20个\n",
    "        all.iloc[p*traget_data_length+j,:] = test.iloc[i-20+j,:]"
   ]
  },
  {
   "cell_type": "code",
   "execution_count": null,
   "id": "70565f03",
   "metadata": {},
   "outputs": [],
   "source": [
    "all.to_csv('../data/allout.csv') "
   ]
  },
  {
   "cell_type": "code",
   "execution_count": null,
   "id": "cfe10543",
   "metadata": {},
   "outputs": [],
   "source": [
    "data_set =pd.read_csv ('../data/allout.csv')"
   ]
  },
  {
   "cell_type": "code",
   "execution_count": null,
   "id": "e187c00e",
   "metadata": {},
   "outputs": [],
   "source": [
    "redundancy = all.shape[0]%traget_data_length"
   ]
  },
  {
   "cell_type": "code",
   "execution_count": null,
   "id": "ac66f369",
   "metadata": {},
   "outputs": [],
   "source": [
    "all_feature = all.iloc[0:-redundancy,1:]"
   ]
  },
  {
   "cell_type": "code",
   "execution_count": null,
   "id": "f0915288",
   "metadata": {},
   "outputs": [],
   "source": [
    "all_feature.head()"
   ]
  },
  {
   "cell_type": "code",
   "execution_count": null,
   "id": "7e96decb",
   "metadata": {},
   "outputs": [],
   "source": [
    "sensor1 = all_feature.iloc[:,0]\n",
    "sensor2 = all_feature.iloc[:,1]\n",
    "sensor3 = all_feature.iloc[:,2]\n",
    "sensor4 = all_feature.iloc[:,3]"
   ]
  },
  {
   "cell_type": "code",
   "execution_count": null,
   "id": "d900a7fb",
   "metadata": {},
   "outputs": [],
   "source": [
    "\n",
    "train_features = torch.Tensor(sensor1.values)\n",
    "true_train_features1 = train_features.reshape(-1,traget_data_length)\n",
    "train_features = torch.Tensor(sensor2.values)\n",
    "true_train_features2 = train_features.reshape(-1,traget_data_length)\n",
    "train_features = torch.Tensor(sensor3.values)\n",
    "true_train_features3 = train_features.reshape(-1,traget_data_length)\n",
    "train_features = torch.Tensor(sensor4.values)\n",
    "true_train_features4 = train_features.reshape(-1,traget_data_length)"
   ]
  },
  {
   "cell_type": "code",
   "execution_count": null,
   "id": "ce18a394",
   "metadata": {},
   "outputs": [],
   "source": [
    "label = all_feature.iloc[:,6]\n",
    "train_label = torch.tensor(label.values)\n",
    "true_train_label = train_label.reshape(-1,traget_data_length)"
   ]
  },
  {
   "cell_type": "code",
   "execution_count": null,
   "id": "5f42f8ef",
   "metadata": {},
   "outputs": [],
   "source": [
    "a = true_train_features1.detach().numpy()\n",
    "b = true_train_features2.detach().numpy()\n",
    "c = true_train_features3.detach().numpy()\n",
    "d = true_train_features4.detach().numpy()\n",
    "l = true_train_label.detach().numpy()"
   ]
  },
  {
   "cell_type": "code",
   "execution_count": null,
   "id": "0e13da08",
   "metadata": {},
   "outputs": [],
   "source": [
    "a1 = pd.DataFrame(a)\n",
    "b1 = pd.DataFrame(b)\n",
    "c1 = pd.DataFrame(c)\n",
    "d1 = pd.DataFrame(d)\n",
    "l1 = pd.DataFrame(l)"
   ]
  },
  {
   "cell_type": "code",
   "execution_count": null,
   "id": "d5acd2c4",
   "metadata": {},
   "outputs": [],
   "source": [
    "a1.loc[:,traget_data_length] = l1.iloc[:,0]\n",
    "b1.loc[:,traget_data_length] = l1.iloc[:,0]\n",
    "c1.loc[:,traget_data_length] = l1.iloc[:,0]\n",
    "d1.loc[:,traget_data_length] = l1.iloc[:,0]"
   ]
  },
  {
   "cell_type": "code",
   "execution_count": null,
   "id": "40352f4d",
   "metadata": {},
   "outputs": [],
   "source": [
    "a1.to_csv('../data/sensor_data/sensor1_1ppm.csv',index=0)\n",
    "b1.to_csv('../data/sensor_data/sensor2_1ppm.csv',index=0)\n",
    "c1.to_csv('../data/sensor_data/sensor3_1ppm.csv',index=0)\n",
    "d1.to_csv('../data/sensor_data/sensor4_1ppm.csv',index=0)"
   ]
  },
  {
   "cell_type": "markdown",
   "id": "b17ca074",
   "metadata": {},
   "source": [
    "# 不同浓度采样"
   ]
  },
  {
   "cell_type": "code",
   "execution_count": 6,
   "id": "9fe4f6d2",
   "metadata": {},
   "outputs": [],
   "source": [
    "read_data_1ppm = pd.read_csv('../data/sensor1_with_label_1ppm_eth.csv',index_col=0)\n",
    "read_data_5ppm = pd.read_csv('../data/sensor1_with_label_5ppm_eth.csv',index_col=0)\n",
    "read_data_10ppm = pd.read_csv('../data/sensor1_with_label_10ppm_eth.csv',index_col=0)  #  需要修改读取的文件"
   ]
  },
  {
   "cell_type": "code",
   "execution_count": 7,
   "id": "ea0d42b4",
   "metadata": {},
   "outputs": [],
   "source": [
    "train_data_1ppm = read_data_1ppm.iloc[2000:3000,0:-1]\n",
    "label_data_1ppm = read_data_1ppm.iloc[2000:3000,-1]\n",
    "train_data_5ppm = read_data_5ppm.iloc[2000:3000,0:-1]\n",
    "label_data_5ppm = read_data_5ppm.iloc[2000:3000,-1]\n",
    "train_data_10ppm = read_data_10ppm.iloc[2000:3000,0:-1]\n",
    "label_data_10ppm = read_data_10ppm.iloc[2000:3000,-1]"
   ]
  },
  {
   "cell_type": "code",
   "execution_count": 8,
   "id": "53135965",
   "metadata": {},
   "outputs": [],
   "source": [
    "#添加label列  0 1 2 softmax特有的\n",
    "train_data_1ppm.loc[:,71]=0\n",
    "train_data_5ppm.loc[:,71]=1\n",
    "train_data_10ppm.loc[:,71]=2"
   ]
  },
  {
   "cell_type": "code",
   "execution_count": 9,
   "id": "9de53473",
   "metadata": {},
   "outputs": [],
   "source": [
    "test_data_noppm = pd.concat([train_data_1ppm,train_data_5ppm,train_data_10ppm],axis=0)"
   ]
  },
  {
   "cell_type": "code",
   "execution_count": 12,
   "id": "ccdd3a38",
   "metadata": {},
   "outputs": [],
   "source": [
    "#随机采样 生成学习数据\n",
    "sample = test_data_noppm.sample(100,replace=False,random_state=42,axis=0)\n",
    "sample.to_csv(\"../data/test.csv\",index=0)"
   ]
  },
  {
   "cell_type": "code",
   "execution_count": null,
   "id": "1f20625a",
   "metadata": {},
   "outputs": [],
   "source": []
  }
 ],
 "metadata": {
  "kernelspec": {
   "display_name": "Python 3",
   "language": "python",
   "name": "python3"
  },
  "language_info": {
   "codemirror_mode": {
    "name": "ipython",
    "version": 3
   },
   "file_extension": ".py",
   "mimetype": "text/x-python",
   "name": "python",
   "nbconvert_exporter": "python",
   "pygments_lexer": "ipython3",
   "version": "3.6.13"
  },
  "toc": {
   "base_numbering": 1,
   "nav_menu": {},
   "number_sections": true,
   "sideBar": true,
   "skip_h1_title": false,
   "title_cell": "Table of Contents",
   "title_sidebar": "Contents",
   "toc_cell": false,
   "toc_position": {},
   "toc_section_display": true,
   "toc_window_display": false
  }
 },
 "nbformat": 4,
 "nbformat_minor": 5
}
