{
 "cells": [
  {
   "cell_type": "code",
   "execution_count": 1,
   "id": "5203b02c",
   "metadata": {
    "ExecuteTime": {
     "end_time": "2022-12-06T12:49:07.963066Z",
     "start_time": "2022-12-06T12:49:05.145287Z"
    }
   },
   "outputs": [],
   "source": [
    "import numpy as np\n",
    "import pandas as pd\n",
    "import math\n",
    "import torch\n",
    "import os\n",
    "import matplotlib.pyplot as plt\n",
    "from scipy.signal import hilbert,chirp\n",
    "from torch import nn\n",
    "from d2l import torch as d2l\n",
    "%matplotlib inline"
   ]
  },
  {
   "cell_type": "code",
   "execution_count": 2,
   "id": "deab8e94",
   "metadata": {
    "ExecuteTime": {
     "end_time": "2022-12-06T12:49:09.123757Z",
     "start_time": "2022-12-06T12:49:07.966037Z"
    }
   },
   "outputs": [],
   "source": [
    "os.chdir(r'D:\\SynologyDrive\\实验数据\\酒精补充的50-65ppm数据')\n",
    "##  要切换到的新路径  可以%pwd 查看当前路径\n",
    "file_chdir = os.getcwd() ##  获取当前路径\n",
    "file_name_list=[]\n",
    "file_list=[] \n",
    "for root,dirs,files in os.walk(file_chdir):  ## file_chdir :代表需要遍历的根文件夹  root :表示正在遍历的文件夹的名字（根/子）\n",
    "                                            ## dirs :记录正在遍历的文件夹下的子文件夹集合  files:记录正在遍历的文件夹中的文件集合(list形式)\n",
    "    for file in files:\n",
    "        if os.path.splitext(file)[-1] =='.csv': ## os.path.splitext()  分离文件名与扩展名；默认返回(fname,fextension)元组 切片后-1 表示后缀\n",
    "            file_name_list.append(file)\n",
    "            file_list.append(pd.read_csv(file))\n"
   ]
  },
  {
   "cell_type": "code",
   "execution_count": 3,
   "id": "0c4e6d13",
   "metadata": {
    "ExecuteTime": {
     "end_time": "2022-12-06T12:49:09.139687Z",
     "start_time": "2022-12-06T12:49:09.125725Z"
    }
   },
   "outputs": [],
   "source": [
    "## 添加位命名的列\n",
    "for num,file in enumerate(file_list):\n",
    "      file.rename(columns={'Unnamed: 8': 'humidity'},inplace=True)\n",
    "    "
   ]
  },
  {
   "cell_type": "code",
   "execution_count": 4,
   "id": "bad1f35e",
   "metadata": {
    "ExecuteTime": {
     "end_time": "2022-12-06T12:49:09.155645Z",
     "start_time": "2022-12-06T12:49:09.141682Z"
    }
   },
   "outputs": [],
   "source": [
    "## 可以设置接口 手动输入 周期的数量和 目标训练数据数量\n",
    "cycle_data_length = 1000 # 采样率为 100Hz 周期为10s\n",
    "traget_data_length = 70\n",
    "count =[]\n",
    "## 计算出不同表格所包含的脉冲数量\n",
    "for num,file in enumerate(file_list):\n",
    "    count.append(math.floor(len(file_list[num])/cycle_data_length))"
   ]
  },
  {
   "cell_type": "code",
   "execution_count": 5,
   "id": "c9cbc8ab",
   "metadata": {
    "ExecuteTime": {
     "end_time": "2022-12-06T12:49:09.171602Z",
     "start_time": "2022-12-06T12:49:09.157640Z"
    }
   },
   "outputs": [],
   "source": [
    "## 创建 2维矩阵  第一维代表 表格个数  第二维代表脉冲定位的点数 （这里是初始化）  长度代表脉冲宽度\n",
    "z=[]\n",
    "for i in range(len(count)):\n",
    "    z.append([0]*count[i])"
   ]
  },
  {
   "cell_type": "code",
   "execution_count": 6,
   "id": "df41a16e",
   "metadata": {
    "ExecuteTime": {
     "end_time": "2022-12-06T12:49:22.178867Z",
     "start_time": "2022-12-06T12:49:09.173597Z"
    },
    "code_folding": []
   },
   "outputs": [],
   "source": [
    "## 寻找阶跃的点 并且将位置信息存在  z 列表中\n",
    "for num ,counts in enumerate(count):\n",
    "    for j in range(counts):\n",
    "        for i in range(j*cycle_data_length,(j+1)*cycle_data_length):\n",
    "            if file_list[num].loc[i,\" pulse \"] > 2.5 and file_list[num].loc[(i-1),\" pulse \"] < 0.5:\n",
    "                z[num][j]=file_list[num].index[i]        \n",
    "       "
   ]
  },
  {
   "cell_type": "code",
   "execution_count": 7,
   "id": "bd4ec516",
   "metadata": {
    "ExecuteTime": {
     "end_time": "2022-12-06T12:49:22.193829Z",
     "start_time": "2022-12-06T12:49:22.180862Z"
    }
   },
   "outputs": [],
   "source": [
    "## 创建目标的dataFrame 用于输出\n",
    "df = []\n",
    "for i in range(len(count)):\n",
    "    df.append(pd.DataFrame(np.zeros(file_list[i].shape), index=file_list[i].index, columns=file_list[i].columns))"
   ]
  },
  {
   "cell_type": "code",
   "execution_count": 8,
   "id": "0dc0b73e",
   "metadata": {
    "ExecuteTime": {
     "end_time": "2022-12-06T12:49:43.159920Z",
     "start_time": "2022-12-06T12:49:22.195825Z"
    }
   },
   "outputs": [],
   "source": [
    "## 将脉冲数据 按格式输出 \n",
    "for num,down_l in enumerate(z):\n",
    "    for lb,down in enumerate(down_l):\n",
    "        for j in range(traget_data_length):\n",
    "            df[num].iloc[lb*traget_data_length+j,:] = file_list[num].iloc[down-20+j,:]\n",
    "    \n",
    "#     print(z[num].index(down_l))\n",
    "#     for j in range(traget_data_length):\n",
    "#         df[num].loc[down_l*traget_data_length+j,:] = file_list[num].iloc[num-20+j,:]\n"
   ]
  },
  {
   "cell_type": "code",
   "execution_count": 9,
   "id": "f804491e",
   "metadata": {
    "ExecuteTime": {
     "end_time": "2022-12-06T12:49:43.251651Z",
     "start_time": "2022-12-06T12:49:43.161887Z"
    }
   },
   "outputs": [],
   "source": [
    "## 去掉全为0的行\n",
    "for i in range(len(count)):\n",
    "    df[i]=df[i].loc[(df[i]!=0).any(1)]"
   ]
  },
  {
   "cell_type": "code",
   "execution_count": 10,
   "id": "f3d36309",
   "metadata": {
    "ExecuteTime": {
     "end_time": "2022-12-06T12:49:48.286043Z",
     "start_time": "2022-12-06T12:49:43.254644Z"
    }
   },
   "outputs": [
    {
     "name": "stdout",
     "output_type": "stream",
     "text": [
      "输入本次处理的气体类型（英文）：eth\n"
     ]
    }
   ],
   "source": [
    "##将文件按格式保存\n",
    "typing = input(\"输入本次处理的气体类型（英文）：\")\n",
    "for i in range(len(count)):\n",
    "    df[i].to_csv(f'dataset{i+5}0ppm_{typing}.csv')"
   ]
  },
  {
   "cell_type": "code",
   "execution_count": 11,
   "id": "11676f83",
   "metadata": {
    "ExecuteTime": {
     "end_time": "2022-12-06T12:49:48.688861Z",
     "start_time": "2022-12-06T12:49:48.288037Z"
    }
   },
   "outputs": [],
   "source": [
    "for i in range(5,len(count)+5):\n",
    "    \n",
    "    for j in range (1,5):\n",
    "        exec('ppm{}0sensor{}= df[{}].iloc[:,{}].values.reshape(-1,traget_data_length)'.format(i,j,i-5,j) ) ## serial 没有 reshape 功能\n",
    "        exec('ppm{}0sensor{}= pd.DataFrame(ppm{}0sensor{})'.format(i,j,i,j))\n",
    "        exec('ppm{}0sensor{}.loc[:,traget_data_length+1] = {}0'.format(i,j,i))\n",
    "        exec('ppm{}0sensor{}.rename(columns={},inplace=True)'.format(i,j,{70:\"humidity(v)\"}))\n",
    "        exec('ppm{}0sensor{}.rename(columns={},inplace=True)'.format(i,j,{71:\"label(ppm)\"}))\n",
    "        #exec('print(len(ppm{}0sensor{}))'.format(i,j))\n",
    "        exec('ppm{}0sensor{}=ppm{}0sensor{}.iloc[math.ceil(len(ppm{}0sensor{})/6):math.ceil(5*len(ppm{}0sensor{})/6),:]'.format(i,j,i,j,i,j,i,j))\n",
    "        exec('ppm{}0sensor{}.to_csv(\\'{}0ppms{}_dset.csv\\')'.format(i,j,i,j))"
   ]
  },
  {
   "cell_type": "code",
   "execution_count": null,
   "id": "1de45c75",
   "metadata": {},
   "outputs": [],
   "source": []
  },
  {
   "cell_type": "code",
   "execution_count": 12,
   "id": "72075bad",
   "metadata": {
    "ExecuteTime": {
     "end_time": "2022-12-06T12:49:49.145534Z",
     "start_time": "2022-12-06T12:49:48.691853Z"
    }
   },
   "outputs": [
    {
     "ename": "NameError",
     "evalue": "name 'ppm10sensor4' is not defined",
     "output_type": "error",
     "traceback": [
      "\u001b[1;31m---------------------------------------------------------------------------\u001b[0m",
      "\u001b[1;31mNameError\u001b[0m                                 Traceback (most recent call last)",
      "\u001b[1;32m~\\AppData\\Local\\Temp\\ipykernel_37428\\3364073284.py\u001b[0m in \u001b[0;36m<module>\u001b[1;34m\u001b[0m\n\u001b[1;32m----> 1\u001b[1;33m \u001b[0mppm10sensor4\u001b[0m\u001b[1;33m\u001b[0m\u001b[1;33m\u001b[0m\u001b[0m\n\u001b[0m",
      "\u001b[1;31mNameError\u001b[0m: name 'ppm10sensor4' is not defined"
     ]
    }
   ],
   "source": [
    "ppm10sensor4"
   ]
  },
  {
   "cell_type": "code",
   "execution_count": null,
   "id": "59935d29",
   "metadata": {},
   "outputs": [],
   "source": []
  }
 ],
 "metadata": {
  "kernelspec": {
   "display_name": "Python 3 (ipykernel)",
   "language": "python",
   "name": "python3"
  },
  "language_info": {
   "codemirror_mode": {
    "name": "ipython",
    "version": 3
   },
   "file_extension": ".py",
   "mimetype": "text/x-python",
   "name": "python",
   "nbconvert_exporter": "python",
   "pygments_lexer": "ipython3",
   "version": "3.7.12"
  },
  "toc": {
   "base_numbering": 1,
   "nav_menu": {},
   "number_sections": true,
   "sideBar": true,
   "skip_h1_title": false,
   "title_cell": "Table of Contents",
   "title_sidebar": "Contents",
   "toc_cell": false,
   "toc_position": {},
   "toc_section_display": true,
   "toc_window_display": false
  }
 },
 "nbformat": 4,
 "nbformat_minor": 5
}
