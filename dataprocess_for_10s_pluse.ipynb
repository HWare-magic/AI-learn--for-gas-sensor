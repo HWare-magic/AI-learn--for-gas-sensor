{
 "cells": [
  {
   "cell_type": "code",
   "execution_count": 24,
   "id": "5203b02c",
   "metadata": {
    "ExecuteTime": {
     "end_time": "2022-10-19T08:06:24.929602Z",
     "start_time": "2022-10-19T08:06:24.902675Z"
    }
   },
   "outputs": [],
   "source": [
    "import numpy as np\n",
    "import pandas as pd\n",
    "import math\n",
    "import torch\n",
    "import os\n",
    "import matplotlib.pyplot as plt\n",
    "from scipy.signal import hilbert,chirp\n",
    "from torch import nn\n",
    "from d2l import torch as d2l\n",
    "%matplotlib inline"
   ]
  },
  {
   "cell_type": "code",
   "execution_count": 41,
   "id": "deab8e94",
   "metadata": {
    "ExecuteTime": {
     "end_time": "2022-10-19T08:26:16.123355Z",
     "start_time": "2022-10-19T08:26:14.706159Z"
    }
   },
   "outputs": [],
   "source": [
    "os.chdir(r'C:\\\\Users\\\\86136\\\\PycharmProjects\\\\pythonProject\\\\AI -learn from zero\\\\data\\\\sensor_data_origin\\\\0928_cycle10s_3v_0.5v')\n",
    "##  要切换到的新路径  可以%pwd 查看当前路径\n",
    "file_chdir = os.getcwd() ##  获取当前路径\n",
    "file_name_list=[]\n",
    "file_list=[] \n",
    "for root,dirs,files in os.walk(file_chdir):  ## file_chdir :代表需要遍历的根文件夹  root :表示正在遍历的文件夹的名字（根/子）\n",
    "                                            ## dirs :记录正在遍历的文件夹下的子文件夹集合  files:记录正在遍历的文件夹中的文件集合(list形式)\n",
    "    for file in files:\n",
    "        if os.path.splitext(file)[-1] =='.csv': ## os.path.splitext()  分离文件名与扩展名；默认返回(fname,fextension)元组 切片后-1 表示后缀\n",
    "            file_name_list.append(file)\n",
    "            file_list.append(pd.read_csv(file))\n"
   ]
  },
  {
   "cell_type": "code",
   "execution_count": 48,
   "id": "0c4e6d13",
   "metadata": {
    "ExecuteTime": {
     "end_time": "2022-10-19T08:41:31.711243Z",
     "start_time": "2022-10-19T08:41:31.693291Z"
    }
   },
   "outputs": [],
   "source": [
    "## 添加位命名的列\n",
    "for num,file in enumerate(file_list):\n",
    "      file.rename(columns={'Unnamed: 8': 'humidity'},inplace=True)\n",
    "    "
   ]
  },
  {
   "cell_type": "code",
   "execution_count": 52,
   "id": "bad1f35e",
   "metadata": {
    "ExecuteTime": {
     "end_time": "2022-10-19T09:01:08.438699Z",
     "start_time": "2022-10-19T09:01:08.418752Z"
    }
   },
   "outputs": [],
   "source": [
    "## 可以设置接口 手动输入 周期的数量和 目标训练数据数量\n",
    "cycle_data_length = 1000 # 采样率为 100Hz 周期为10s\n",
    "traget_data_length = 70\n",
    "count =[]\n",
    "## 计算出不同表格所包含的脉冲数量\n",
    "for num,file in enumerate(file_list):\n",
    "    count.append(math.floor(len(file_list[num])/cycle_data_length))"
   ]
  },
  {
   "cell_type": "code",
   "execution_count": 82,
   "id": "c9cbc8ab",
   "metadata": {
    "ExecuteTime": {
     "end_time": "2022-10-19T11:05:21.158195Z",
     "start_time": "2022-10-19T11:05:21.124287Z"
    }
   },
   "outputs": [],
   "source": [
    "## 创建 2维矩阵  第一维代表 表格个数  第二维代表脉冲定位的点数 （这里是初始化）  长度代表脉冲宽度\n",
    "z=[]\n",
    "for i in range(len(count)):\n",
    "    z.append([0]*count[i])"
   ]
  },
  {
   "cell_type": "code",
   "execution_count": 99,
   "id": "df41a16e",
   "metadata": {
    "ExecuteTime": {
     "end_time": "2022-10-19T11:22:36.396114Z",
     "start_time": "2022-10-19T11:22:21.590524Z"
    },
    "code_folding": []
   },
   "outputs": [],
   "source": [
    "## 寻找阶跃的点 并且将位置信息存在  z 列表中\n",
    "for num ,counts in enumerate(count):\n",
    "    for j in range(counts):\n",
    "        for i in range(j*cycle_data_length,(j+1)*cycle_data_length):\n",
    "            if file_list[num].loc[i,\" pulse \"] > 2.5 and file_list[num].loc[(i-1),\" pulse \"] < 0.5:\n",
    "                z[num][j]=file_list[num].index[i]        \n",
    "       "
   ]
  },
  {
   "cell_type": "code",
   "execution_count": 105,
   "id": "bd4ec516",
   "metadata": {
    "ExecuteTime": {
     "end_time": "2022-10-19T11:32:58.625568Z",
     "start_time": "2022-10-19T11:32:58.605597Z"
    }
   },
   "outputs": [
    {
     "data": {
      "text/plain": [
       "pandas.core.frame.DataFrame"
      ]
     },
     "execution_count": 105,
     "metadata": {},
     "output_type": "execute_result"
    }
   ],
   "source": [
    "## 创建目标的dataFrame 用于输出\n",
    "df = []\n",
    "for i in range(len(count)):\n",
    "    df.append(pd.DataFrame(np.zeros(file_list[i].shape), index=file_list[i].index, columns=file_list[i].columns))"
   ]
  },
  {
   "cell_type": "code",
   "execution_count": 107,
   "id": "0dc0b73e",
   "metadata": {
    "ExecuteTime": {
     "end_time": "2022-10-19T11:33:43.206431Z",
     "start_time": "2022-10-19T11:33:17.823846Z"
    }
   },
   "outputs": [],
   "source": [
    "## 将脉冲数据 按格式输出 \n",
    "for num,down_l in enumerate(z):\n",
    "    for lb,down in enumerate(down_l):\n",
    "        for j in range(traget_data_length):\n",
    "            df[num].iloc[lb*traget_data_length+j,:] = file_list[num].iloc[down-20+j,:]\n",
    "    \n",
    "#     print(z[num].index(down_l))\n",
    "#     for j in range(traget_data_length):\n",
    "#         df[num].loc[down_l*traget_data_length+j,:] = file_list[num].iloc[num-20+j,:]\n"
   ]
  },
  {
   "cell_type": "code",
   "execution_count": 113,
   "id": "f804491e",
   "metadata": {
    "ExecuteTime": {
     "end_time": "2022-10-19T11:48:51.008073Z",
     "start_time": "2022-10-19T11:48:50.927263Z"
    }
   },
   "outputs": [],
   "source": [
    "## 去掉全为0的行\n",
    "for i in range(len(count)):\n",
    "    df[i]=df[i].loc[(df[i]!=0).any(1)]"
   ]
  },
  {
   "cell_type": "code",
   "execution_count": 118,
   "id": "f3d36309",
   "metadata": {
    "ExecuteTime": {
     "end_time": "2022-10-19T11:56:48.625625Z",
     "start_time": "2022-10-19T11:56:43.130455Z"
    }
   },
   "outputs": [
    {
     "name": "stdout",
     "output_type": "stream",
     "text": [
      "输入本次处理的气体类型（英文）：ethanol\n"
     ]
    }
   ],
   "source": [
    "##将文件按格式保存\n",
    "typing = input(\"输入本次处理的气体类型（英文）：\")\n",
    "for i in range(len(count)):\n",
    "    df[i].to_csv(f'dataset{i}0ppm_{typing}.csv')"
   ]
  },
  {
   "cell_type": "code",
   "execution_count": 199,
   "id": "11676f83",
   "metadata": {
    "ExecuteTime": {
     "end_time": "2022-10-20T01:50:32.672245Z",
     "start_time": "2022-10-20T01:50:31.946190Z"
    }
   },
   "outputs": [],
   "source": [
    "for i in range(len(count)):\n",
    "    \n",
    "    for j in range (1,5):\n",
    "        exec('ppm{}0sensor{}= df[{}].iloc[:,{}].values.reshape(-1,traget_data_length)'.format(i,j,i,j) ) ## serial 没有 reshape 功能\n",
    "        exec('ppm{}0sensor{}= pd.DataFrame(ppm{}0sensor{})'.format(i,j,i,j))\n",
    "        exec('ppm{}0sensor{}.loc[:,traget_data_length+1] = {}0'.format(i,j,i))\n",
    "        exec('ppm{}0sensor{}.rename(columns={},inplace=True)'.format(i,j,{70:\"humidity(v)\"}))\n",
    "        exec('ppm{}0sensor{}.rename(columns={},inplace=True)'.format(i,j,{71:\"label(ppm)\"}))\n",
    "        #exec('print(len(ppm{}0sensor{}))'.format(i,j))\n",
    "        exec('ppm{}0sensor{}=ppm{}0sensor{}.iloc[math.ceil(len(ppm{}0sensor{})/6):math.ceil(5*len(ppm{}0sensor{})/6),:]'.format(i,j,i,j,i,j,i,j))\n",
    "        exec('ppm{}0sensor{}.to_csv(\\'{}0ppms{}_dset.csv\\')'.format(i,j,i,j))"
   ]
  },
  {
   "cell_type": "code",
   "execution_count": 200,
   "id": "72075bad",
   "metadata": {
    "ExecuteTime": {
     "end_time": "2022-10-20T01:50:35.173553Z",
     "start_time": "2022-10-20T01:50:35.127676Z"
    }
   },
   "outputs": [
    {
     "data": {
      "text/html": [
       "<div>\n",
       "<style scoped>\n",
       "    .dataframe tbody tr th:only-of-type {\n",
       "        vertical-align: middle;\n",
       "    }\n",
       "\n",
       "    .dataframe tbody tr th {\n",
       "        vertical-align: top;\n",
       "    }\n",
       "\n",
       "    .dataframe thead th {\n",
       "        text-align: right;\n",
       "    }\n",
       "</style>\n",
       "<table border=\"1\" class=\"dataframe\">\n",
       "  <thead>\n",
       "    <tr style=\"text-align: right;\">\n",
       "      <th></th>\n",
       "      <th>0</th>\n",
       "      <th>1</th>\n",
       "      <th>2</th>\n",
       "      <th>3</th>\n",
       "      <th>4</th>\n",
       "      <th>5</th>\n",
       "      <th>6</th>\n",
       "      <th>7</th>\n",
       "      <th>8</th>\n",
       "      <th>9</th>\n",
       "      <th>...</th>\n",
       "      <th>61</th>\n",
       "      <th>62</th>\n",
       "      <th>63</th>\n",
       "      <th>64</th>\n",
       "      <th>65</th>\n",
       "      <th>66</th>\n",
       "      <th>67</th>\n",
       "      <th>68</th>\n",
       "      <th>69</th>\n",
       "      <th>label(ppm)</th>\n",
       "    </tr>\n",
       "  </thead>\n",
       "  <tbody>\n",
       "    <tr>\n",
       "      <th>60</th>\n",
       "      <td>0.255806</td>\n",
       "      <td>0.255806</td>\n",
       "      <td>0.255162</td>\n",
       "      <td>0.256128</td>\n",
       "      <td>0.255806</td>\n",
       "      <td>0.255484</td>\n",
       "      <td>0.254195</td>\n",
       "      <td>0.256451</td>\n",
       "      <td>0.254517</td>\n",
       "      <td>0.257095</td>\n",
       "      <td>...</td>\n",
       "      <td>0.257095</td>\n",
       "      <td>0.255806</td>\n",
       "      <td>0.255806</td>\n",
       "      <td>0.254517</td>\n",
       "      <td>0.254517</td>\n",
       "      <td>0.253551</td>\n",
       "      <td>0.253551</td>\n",
       "      <td>0.253551</td>\n",
       "      <td>0.252584</td>\n",
       "      <td>10</td>\n",
       "    </tr>\n",
       "    <tr>\n",
       "      <th>61</th>\n",
       "      <td>0.253873</td>\n",
       "      <td>0.254517</td>\n",
       "      <td>0.254840</td>\n",
       "      <td>0.255162</td>\n",
       "      <td>0.254517</td>\n",
       "      <td>0.254517</td>\n",
       "      <td>0.254840</td>\n",
       "      <td>0.255162</td>\n",
       "      <td>0.254840</td>\n",
       "      <td>0.254195</td>\n",
       "      <td>...</td>\n",
       "      <td>0.255162</td>\n",
       "      <td>0.254840</td>\n",
       "      <td>0.253551</td>\n",
       "      <td>0.253551</td>\n",
       "      <td>0.253551</td>\n",
       "      <td>0.253551</td>\n",
       "      <td>0.252906</td>\n",
       "      <td>0.251940</td>\n",
       "      <td>0.251940</td>\n",
       "      <td>10</td>\n",
       "    </tr>\n",
       "    <tr>\n",
       "      <th>62</th>\n",
       "      <td>0.253551</td>\n",
       "      <td>0.254195</td>\n",
       "      <td>0.253551</td>\n",
       "      <td>0.253873</td>\n",
       "      <td>0.253551</td>\n",
       "      <td>0.253229</td>\n",
       "      <td>0.253873</td>\n",
       "      <td>0.252906</td>\n",
       "      <td>0.253873</td>\n",
       "      <td>0.253551</td>\n",
       "      <td>...</td>\n",
       "      <td>0.253873</td>\n",
       "      <td>0.252584</td>\n",
       "      <td>0.252262</td>\n",
       "      <td>0.251940</td>\n",
       "      <td>0.252262</td>\n",
       "      <td>0.251940</td>\n",
       "      <td>0.251617</td>\n",
       "      <td>0.252262</td>\n",
       "      <td>0.251617</td>\n",
       "      <td>10</td>\n",
       "    </tr>\n",
       "    <tr>\n",
       "      <th>63</th>\n",
       "      <td>0.252584</td>\n",
       "      <td>0.252906</td>\n",
       "      <td>0.252262</td>\n",
       "      <td>0.252584</td>\n",
       "      <td>0.252262</td>\n",
       "      <td>0.251940</td>\n",
       "      <td>0.252906</td>\n",
       "      <td>0.252584</td>\n",
       "      <td>0.253229</td>\n",
       "      <td>0.252584</td>\n",
       "      <td>...</td>\n",
       "      <td>0.252906</td>\n",
       "      <td>0.252262</td>\n",
       "      <td>0.251295</td>\n",
       "      <td>0.251295</td>\n",
       "      <td>0.250973</td>\n",
       "      <td>0.251295</td>\n",
       "      <td>0.250329</td>\n",
       "      <td>0.250651</td>\n",
       "      <td>0.250329</td>\n",
       "      <td>10</td>\n",
       "    </tr>\n",
       "    <tr>\n",
       "      <th>64</th>\n",
       "      <td>0.251617</td>\n",
       "      <td>0.251940</td>\n",
       "      <td>0.250973</td>\n",
       "      <td>0.250973</td>\n",
       "      <td>0.251617</td>\n",
       "      <td>0.251295</td>\n",
       "      <td>0.251617</td>\n",
       "      <td>0.250973</td>\n",
       "      <td>0.251617</td>\n",
       "      <td>0.251295</td>\n",
       "      <td>...</td>\n",
       "      <td>0.252906</td>\n",
       "      <td>0.251295</td>\n",
       "      <td>0.250973</td>\n",
       "      <td>0.251295</td>\n",
       "      <td>0.250651</td>\n",
       "      <td>0.250006</td>\n",
       "      <td>0.250651</td>\n",
       "      <td>0.250329</td>\n",
       "      <td>0.249040</td>\n",
       "      <td>10</td>\n",
       "    </tr>\n",
       "    <tr>\n",
       "      <th>...</th>\n",
       "      <td>...</td>\n",
       "      <td>...</td>\n",
       "      <td>...</td>\n",
       "      <td>...</td>\n",
       "      <td>...</td>\n",
       "      <td>...</td>\n",
       "      <td>...</td>\n",
       "      <td>...</td>\n",
       "      <td>...</td>\n",
       "      <td>...</td>\n",
       "      <td>...</td>\n",
       "      <td>...</td>\n",
       "      <td>...</td>\n",
       "      <td>...</td>\n",
       "      <td>...</td>\n",
       "      <td>...</td>\n",
       "      <td>...</td>\n",
       "      <td>...</td>\n",
       "      <td>...</td>\n",
       "      <td>...</td>\n",
       "      <td>...</td>\n",
       "    </tr>\n",
       "    <tr>\n",
       "      <th>295</th>\n",
       "      <td>0.203930</td>\n",
       "      <td>0.203930</td>\n",
       "      <td>0.203930</td>\n",
       "      <td>0.204252</td>\n",
       "      <td>0.203607</td>\n",
       "      <td>0.204252</td>\n",
       "      <td>0.203607</td>\n",
       "      <td>0.205541</td>\n",
       "      <td>0.203607</td>\n",
       "      <td>0.203607</td>\n",
       "      <td>...</td>\n",
       "      <td>0.205218</td>\n",
       "      <td>0.204574</td>\n",
       "      <td>0.203607</td>\n",
       "      <td>0.204252</td>\n",
       "      <td>0.204896</td>\n",
       "      <td>0.201030</td>\n",
       "      <td>0.204252</td>\n",
       "      <td>0.202319</td>\n",
       "      <td>0.203607</td>\n",
       "      <td>10</td>\n",
       "    </tr>\n",
       "    <tr>\n",
       "      <th>296</th>\n",
       "      <td>0.204896</td>\n",
       "      <td>0.203607</td>\n",
       "      <td>0.204574</td>\n",
       "      <td>0.203607</td>\n",
       "      <td>0.204252</td>\n",
       "      <td>0.203607</td>\n",
       "      <td>0.203607</td>\n",
       "      <td>0.204252</td>\n",
       "      <td>0.203285</td>\n",
       "      <td>0.203930</td>\n",
       "      <td>...</td>\n",
       "      <td>0.205218</td>\n",
       "      <td>0.204896</td>\n",
       "      <td>0.203607</td>\n",
       "      <td>0.203930</td>\n",
       "      <td>0.203607</td>\n",
       "      <td>0.203285</td>\n",
       "      <td>0.203607</td>\n",
       "      <td>0.201996</td>\n",
       "      <td>0.202641</td>\n",
       "      <td>10</td>\n",
       "    </tr>\n",
       "    <tr>\n",
       "      <th>297</th>\n",
       "      <td>0.203285</td>\n",
       "      <td>0.203607</td>\n",
       "      <td>0.204574</td>\n",
       "      <td>0.203607</td>\n",
       "      <td>0.203607</td>\n",
       "      <td>0.203930</td>\n",
       "      <td>0.204252</td>\n",
       "      <td>0.203607</td>\n",
       "      <td>0.203930</td>\n",
       "      <td>0.203607</td>\n",
       "      <td>...</td>\n",
       "      <td>0.204896</td>\n",
       "      <td>0.203607</td>\n",
       "      <td>0.203285</td>\n",
       "      <td>0.202319</td>\n",
       "      <td>0.202963</td>\n",
       "      <td>0.202319</td>\n",
       "      <td>0.202641</td>\n",
       "      <td>0.202641</td>\n",
       "      <td>0.201996</td>\n",
       "      <td>10</td>\n",
       "    </tr>\n",
       "    <tr>\n",
       "      <th>298</th>\n",
       "      <td>0.203285</td>\n",
       "      <td>0.202641</td>\n",
       "      <td>0.203285</td>\n",
       "      <td>0.203285</td>\n",
       "      <td>0.203607</td>\n",
       "      <td>0.203607</td>\n",
       "      <td>0.204252</td>\n",
       "      <td>0.202963</td>\n",
       "      <td>0.203930</td>\n",
       "      <td>0.203285</td>\n",
       "      <td>...</td>\n",
       "      <td>0.204574</td>\n",
       "      <td>0.203930</td>\n",
       "      <td>0.203607</td>\n",
       "      <td>0.203930</td>\n",
       "      <td>0.202963</td>\n",
       "      <td>0.202963</td>\n",
       "      <td>0.202963</td>\n",
       "      <td>0.202641</td>\n",
       "      <td>0.202641</td>\n",
       "      <td>10</td>\n",
       "    </tr>\n",
       "    <tr>\n",
       "      <th>299</th>\n",
       "      <td>0.203285</td>\n",
       "      <td>0.203285</td>\n",
       "      <td>0.203930</td>\n",
       "      <td>0.203285</td>\n",
       "      <td>0.203285</td>\n",
       "      <td>0.203930</td>\n",
       "      <td>0.203285</td>\n",
       "      <td>0.203607</td>\n",
       "      <td>0.203930</td>\n",
       "      <td>0.203930</td>\n",
       "      <td>...</td>\n",
       "      <td>0.205218</td>\n",
       "      <td>0.203930</td>\n",
       "      <td>0.203285</td>\n",
       "      <td>0.203607</td>\n",
       "      <td>0.202641</td>\n",
       "      <td>0.202963</td>\n",
       "      <td>0.202641</td>\n",
       "      <td>0.202319</td>\n",
       "      <td>0.201996</td>\n",
       "      <td>10</td>\n",
       "    </tr>\n",
       "  </tbody>\n",
       "</table>\n",
       "<p>240 rows × 71 columns</p>\n",
       "</div>"
      ],
      "text/plain": [
       "            0         1         2         3         4         5         6  \\\n",
       "60   0.255806  0.255806  0.255162  0.256128  0.255806  0.255484  0.254195   \n",
       "61   0.253873  0.254517  0.254840  0.255162  0.254517  0.254517  0.254840   \n",
       "62   0.253551  0.254195  0.253551  0.253873  0.253551  0.253229  0.253873   \n",
       "63   0.252584  0.252906  0.252262  0.252584  0.252262  0.251940  0.252906   \n",
       "64   0.251617  0.251940  0.250973  0.250973  0.251617  0.251295  0.251617   \n",
       "..        ...       ...       ...       ...       ...       ...       ...   \n",
       "295  0.203930  0.203930  0.203930  0.204252  0.203607  0.204252  0.203607   \n",
       "296  0.204896  0.203607  0.204574  0.203607  0.204252  0.203607  0.203607   \n",
       "297  0.203285  0.203607  0.204574  0.203607  0.203607  0.203930  0.204252   \n",
       "298  0.203285  0.202641  0.203285  0.203285  0.203607  0.203607  0.204252   \n",
       "299  0.203285  0.203285  0.203930  0.203285  0.203285  0.203930  0.203285   \n",
       "\n",
       "            7         8         9  ...        61        62        63  \\\n",
       "60   0.256451  0.254517  0.257095  ...  0.257095  0.255806  0.255806   \n",
       "61   0.255162  0.254840  0.254195  ...  0.255162  0.254840  0.253551   \n",
       "62   0.252906  0.253873  0.253551  ...  0.253873  0.252584  0.252262   \n",
       "63   0.252584  0.253229  0.252584  ...  0.252906  0.252262  0.251295   \n",
       "64   0.250973  0.251617  0.251295  ...  0.252906  0.251295  0.250973   \n",
       "..        ...       ...       ...  ...       ...       ...       ...   \n",
       "295  0.205541  0.203607  0.203607  ...  0.205218  0.204574  0.203607   \n",
       "296  0.204252  0.203285  0.203930  ...  0.205218  0.204896  0.203607   \n",
       "297  0.203607  0.203930  0.203607  ...  0.204896  0.203607  0.203285   \n",
       "298  0.202963  0.203930  0.203285  ...  0.204574  0.203930  0.203607   \n",
       "299  0.203607  0.203930  0.203930  ...  0.205218  0.203930  0.203285   \n",
       "\n",
       "           64        65        66        67        68        69  label(ppm)  \n",
       "60   0.254517  0.254517  0.253551  0.253551  0.253551  0.252584          10  \n",
       "61   0.253551  0.253551  0.253551  0.252906  0.251940  0.251940          10  \n",
       "62   0.251940  0.252262  0.251940  0.251617  0.252262  0.251617          10  \n",
       "63   0.251295  0.250973  0.251295  0.250329  0.250651  0.250329          10  \n",
       "64   0.251295  0.250651  0.250006  0.250651  0.250329  0.249040          10  \n",
       "..        ...       ...       ...       ...       ...       ...         ...  \n",
       "295  0.204252  0.204896  0.201030  0.204252  0.202319  0.203607          10  \n",
       "296  0.203930  0.203607  0.203285  0.203607  0.201996  0.202641          10  \n",
       "297  0.202319  0.202963  0.202319  0.202641  0.202641  0.201996          10  \n",
       "298  0.203930  0.202963  0.202963  0.202963  0.202641  0.202641          10  \n",
       "299  0.203607  0.202641  0.202963  0.202641  0.202319  0.201996          10  \n",
       "\n",
       "[240 rows x 71 columns]"
      ]
     },
     "execution_count": 200,
     "metadata": {},
     "output_type": "execute_result"
    }
   ],
   "source": [
    "ppm10sensor4"
   ]
  },
  {
   "cell_type": "code",
   "execution_count": null,
   "id": "59935d29",
   "metadata": {},
   "outputs": [],
   "source": []
  }
 ],
 "metadata": {
  "kernelspec": {
   "display_name": "Python 3 (ipykernel)",
   "language": "python",
   "name": "python3"
  },
  "language_info": {
   "codemirror_mode": {
    "name": "ipython",
    "version": 3
   },
   "file_extension": ".py",
   "mimetype": "text/x-python",
   "name": "python",
   "nbconvert_exporter": "python",
   "pygments_lexer": "ipython3",
   "version": "3.7.12"
  },
  "toc": {
   "base_numbering": 1,
   "nav_menu": {},
   "number_sections": true,
   "sideBar": true,
   "skip_h1_title": false,
   "title_cell": "Table of Contents",
   "title_sidebar": "Contents",
   "toc_cell": false,
   "toc_position": {},
   "toc_section_display": true,
   "toc_window_display": false
  }
 },
 "nbformat": 4,
 "nbformat_minor": 5
}
