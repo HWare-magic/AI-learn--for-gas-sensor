{
 "cells": [
  {
   "cell_type": "markdown",
   "id": "8a8bf4c0",
   "metadata": {},
   "source": [
    "## 查看网络 print(net)\n",
    "- 查看权重信息 print(net[1].state_dict())"
   ]
  },
  {
   "cell_type": "code",
   "execution_count": null,
   "id": "9beee617",
   "metadata": {},
   "outputs": [],
   "source": []
  }
 ],
 "metadata": {
  "kernelspec": {
   "display_name": "Python 3 (ipykernel)",
   "language": "python",
   "name": "python3"
  },
  "language_info": {
   "codemirror_mode": {
    "name": "ipython",
    "version": 3
   },
   "file_extension": ".py",
   "mimetype": "text/x-python",
   "name": "python",
   "nbconvert_exporter": "python",
   "pygments_lexer": "ipython3",
   "version": "3.7.12"
  }
 },
 "nbformat": 4,
 "nbformat_minor": 5
}
